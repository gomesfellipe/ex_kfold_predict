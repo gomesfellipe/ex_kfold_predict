{
 "cells": [
  {
   "cell_type": "markdown",
   "metadata": {},
   "source": [
    "# Importar dependencias"
   ]
  },
  {
   "cell_type": "code",
   "execution_count": 1,
   "metadata": {},
   "outputs": [],
   "source": [
    "import numpy as np\n",
    "\n",
    "from sklearn.datasets import make_classification\n",
    "\n",
    "from sklearn.model_selection import train_test_split\n",
    "\n",
    "from sklearn.model_selection import StratifiedKFold\n",
    "\n",
    "from sklearn.metrics import roc_auc_score\n",
    "\n",
    "from sklearn.model_selection import cross_val_score\n",
    "from sklearn.model_selection import cross_validate\n",
    "\n",
    "from sklearn.ensemble import RandomForestClassifier"
   ]
  },
  {
   "cell_type": "markdown",
   "metadata": {},
   "source": [
    "# Preparar dados"
   ]
  },
  {
   "cell_type": "code",
   "execution_count": 2,
   "metadata": {},
   "outputs": [],
   "source": [
    "SEED=314"
   ]
  },
  {
   "cell_type": "code",
   "execution_count": 3,
   "metadata": {},
   "outputs": [],
   "source": [
    "X, y = make_classification(n_samples=150, n_classes=2,\n",
    "                           n_features=5, n_informative=3, n_redundant=0,\n",
    "                           random_state=SEED)"
   ]
  },
  {
   "cell_type": "code",
   "execution_count": 4,
   "metadata": {},
   "outputs": [],
   "source": [
    "X, X_test, y, y_test = train_test_split(X, y, test_size=0.20, random_state=SEED)"
   ]
  },
  {
   "cell_type": "markdown",
   "metadata": {},
   "source": [
    "# Model"
   ]
  },
  {
   "cell_type": "code",
   "execution_count": 5,
   "metadata": {},
   "outputs": [],
   "source": [
    "model = RandomForestClassifier(random_state=SEED)"
   ]
  },
  {
   "cell_type": "code",
   "execution_count": 6,
   "metadata": {},
   "outputs": [],
   "source": [
    "K=5\n",
    "kf = StratifiedKFold(n_splits=K, shuffle=True, random_state=SEED)"
   ]
  },
  {
   "cell_type": "markdown",
   "metadata": {},
   "source": [
    "# Calcular score via `cross_val_score`\n",
    "---\n",
    "\n",
    "Nota: Apenas 1 métrica é permitida"
   ]
  },
  {
   "cell_type": "code",
   "execution_count": 7,
   "metadata": {},
   "outputs": [],
   "source": [
    "cv_score = cross_val_score(estimator=model, \n",
    "                            X=X, y=y, cv=kf, scoring='roc_auc')"
   ]
  },
  {
   "cell_type": "code",
   "execution_count": 8,
   "metadata": {},
   "outputs": [
    {
     "data": {
      "text/plain": [
       "array([0.88461538, 0.78819444, 0.92361111, 0.87152778, 0.94444444])"
      ]
     },
     "execution_count": 8,
     "metadata": {},
     "output_type": "execute_result"
    }
   ],
   "source": [
    "# output\n",
    "cv_score"
   ]
  },
  {
   "cell_type": "code",
   "execution_count": 9,
   "metadata": {},
   "outputs": [
    {
     "name": "stdout",
     "output_type": "stream",
     "text": [
      "AUC mean: 0.8824786324786326 \n",
      "AUC std: 0.053936328560021486\n"
     ]
    }
   ],
   "source": [
    "print(f\"AUC mean: {cv_score.mean()} \\nAUC std: {cv_score.std()}\")"
   ]
  },
  {
   "cell_type": "code",
   "execution_count": 10,
   "metadata": {},
   "outputs": [
    {
     "data": {
      "text/plain": [
       "0.9577777777777778"
      ]
     },
     "execution_count": 10,
     "metadata": {},
     "output_type": "execute_result"
    }
   ],
   "source": [
    "model.fit(X, y);\n",
    "\n",
    "y_pred = model.predict_proba(X_test)[:, 1]\n",
    "\n",
    "roc_auc_score(y_test, y_pred)"
   ]
  },
  {
   "cell_type": "markdown",
   "metadata": {},
   "source": [
    "# Calcular scores via `cross_validate` \n",
    "---\n",
    "Nota: Aceita mais de uma métrica"
   ]
  },
  {
   "cell_type": "code",
   "execution_count": 11,
   "metadata": {},
   "outputs": [],
   "source": [
    "cv_scores = cross_validate(estimator=model, \n",
    "                            X=X, y=y, cv=kf, scoring=['roc_auc', 'neg_log_loss'])"
   ]
  },
  {
   "cell_type": "code",
   "execution_count": 12,
   "metadata": {},
   "outputs": [
    {
     "data": {
      "text/plain": [
       "{'fit_time': array([0.1197176 , 0.1107018 , 0.11868072, 0.11473441, 0.11376762]),\n",
       " 'score_time': array([0.00897169, 0.00897837, 0.00897789, 0.00794411, 0.00894237]),\n",
       " 'test_roc_auc': array([0.88461538, 0.78819444, 0.92361111, 0.87152778, 0.94444444]),\n",
       " 'test_neg_log_loss': array([-0.43658245, -0.5398032 , -0.42669698, -0.4932852 , -0.36195774])}"
      ]
     },
     "execution_count": 12,
     "metadata": {},
     "output_type": "execute_result"
    }
   ],
   "source": [
    "# output\n",
    "cv_scores"
   ]
  },
  {
   "cell_type": "code",
   "execution_count": 13,
   "metadata": {},
   "outputs": [
    {
     "name": "stdout",
     "output_type": "stream",
     "text": [
      "AUC mean: 0.8824786324786326 \n",
      "AUC std: 0.053936328560021486 \n",
      "LogLoss mean: 0.4516651133509229 \n",
      "LogLoss std: 0.06066112782136453\n"
     ]
    }
   ],
   "source": [
    "print(f\"AUC mean: {cv_scores['test_roc_auc'].mean()} \\nAUC std: {cv_scores['test_roc_auc'].std()}\", \n",
    "      f\"\\nLogLoss mean: {-cv_scores['test_neg_log_loss'].mean()} \\nLogLoss std: {cv_scores['test_neg_log_loss'].std()}\")"
   ]
  },
  {
   "cell_type": "code",
   "execution_count": 14,
   "metadata": {},
   "outputs": [
    {
     "data": {
      "text/plain": [
       "0.9577777777777778"
      ]
     },
     "execution_count": 14,
     "metadata": {},
     "output_type": "execute_result"
    }
   ],
   "source": [
    "model.fit(X, y);\n",
    "\n",
    "y_pred = model.predict_proba(X_test)[:, 1]\n",
    "\n",
    "roc_auc_score(y_test, y_pred)"
   ]
  },
  {
   "cell_type": "markdown",
   "metadata": {},
   "source": [
    "# Calcular scores via loop for\n",
    "---\n",
    "\n",
    "Nota: Assim, torna-se possível fazer o kfold predict"
   ]
  },
  {
   "cell_type": "code",
   "execution_count": 15,
   "metadata": {},
   "outputs": [
    {
     "name": "stdout",
     "output_type": "stream",
     "text": [
      "➜ FOLD :0\n",
      "➜ FOLD :1\n",
      "➜ FOLD :2\n",
      "➜ FOLD :3\n",
      "➜ FOLD :4\n",
      "Final AUC mean: 0.9591111111111111\n",
      "Final AUC oof: 0.8738538482911921\n"
     ]
    }
   ],
   "source": [
    "oof = np.zeros(X.shape[0])\n",
    "y_pred = np.zeros(X_test.shape[0])\n",
    "train_scores = np.zeros(K)\n",
    "\n",
    "for fold, (train_idx, val_idx) in enumerate(kf.split(X=X, y=y)):\n",
    "    print(f\"➜ FOLD :{fold}\")\n",
    "    \n",
    "    X_train = X[train_idx]\n",
    "    y_train = y[train_idx]\n",
    "    X_val = X[val_idx]\n",
    "    y_val = y[val_idx]\n",
    "    \n",
    "    model = RandomForestClassifier()\n",
    "    \n",
    "    model.fit(X_train, y_train)\n",
    "    \n",
    "    oof[val_idx] = model.predict_proba(X_val)[:, 1]\n",
    "    y_pred += model.predict_proba(X_test)[:, 1] / K\n",
    "    \n",
    "    train_scores[fold] = roc_auc_score(y_test, y_pred)\n",
    "    \n",
    "print(f\"Final AUC mean:\", train_scores.mean())\n",
    "print(f\"Final AUC oof:\", roc_auc_score(y, oof))"
   ]
  },
  {
   "cell_type": "code",
   "execution_count": 16,
   "metadata": {},
   "outputs": [
    {
     "data": {
      "text/plain": [
       "0.9622222222222222"
      ]
     },
     "execution_count": 16,
     "metadata": {},
     "output_type": "execute_result"
    }
   ],
   "source": [
    "roc_auc_score(y_test, y_pred)"
   ]
  },
  {
   "cell_type": "code",
   "execution_count": null,
   "metadata": {},
   "outputs": [],
   "source": []
  }
 ],
 "metadata": {
  "kernelspec": {
   "display_name": "Python 3",
   "language": "python",
   "name": "python3"
  },
  "language_info": {
   "codemirror_mode": {
    "name": "ipython",
    "version": 3
   },
   "file_extension": ".py",
   "mimetype": "text/x-python",
   "name": "python",
   "nbconvert_exporter": "python",
   "pygments_lexer": "ipython3",
   "version": "3.8.3"
  }
 },
 "nbformat": 4,
 "nbformat_minor": 4
}
